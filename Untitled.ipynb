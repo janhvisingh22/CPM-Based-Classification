{
 "cells": [
  {
   "cell_type": "code",
   "execution_count": 5,
   "id": "70547c73-b016-41e0-91cc-41580d7b57ae",
   "metadata": {},
   "outputs": [],
   "source": [
    "import json\n",
    "\n",
    "input_path = \"./data/processed/wos_train.json\"\n",
    "output_path = \"./data/processed/wos_train_fixed.json\""
   ]
  },
  {
   "cell_type": "code",
   "execution_count": 6,
   "id": "9b0bc4ab-510b-48f7-ad09-2647a8deea60",
   "metadata": {},
   "outputs": [],
   "source": [
    "# Read and attempt to fix the JSON\n",
    "with open(input_path, \"r\", encoding=\"utf-8\") as f:\n",
    "    raw_text = f.read().strip()"
   ]
  },
  {
   "cell_type": "code",
   "execution_count": 7,
   "id": "d0829b90-d5c5-4d43-abfc-f429325b8a1c",
   "metadata": {},
   "outputs": [],
   "source": [
    "# Try wrapping multiple JSON objects into an array\n",
    "if not raw_text.startswith(\"[\"):\n",
    "    fixed_text = \"[\" + raw_text.replace(\"}{\", \"},{\") + \"]\"  # Add commas between objects\n",
    "else:\n",
    "    fixed_text = raw_text"
   ]
  },
  {
   "cell_type": "code",
   "execution_count": 8,
   "id": "3136b8ec-16e9-42e3-97b1-8d9ec8bda3f7",
   "metadata": {},
   "outputs": [
    {
     "name": "stdout",
     "output_type": "stream",
     "text": [
      "✅ Fixed JSON saved as: ./data/processed/wos_train_fixed.json\n"
     ]
    }
   ],
   "source": [
    "# Save the fixed JSON\n",
    "with open(output_path, \"w\", encoding=\"utf-8\") as f:\n",
    "    f.write(fixed_text)\n",
    "\n",
    "print(\"✅ Fixed JSON saved as:\", output_path)"
   ]
  },
  {
   "cell_type": "code",
   "execution_count": 9,
   "id": "68abeae4-5269-41d2-8f27-9346372f664e",
   "metadata": {},
   "outputs": [
    {
     "name": "stdout",
     "output_type": "stream",
     "text": [
      "✅ Fixed JSON saved as: ./data/processed/wos_train_final.json\n",
      "✅ Fixed JSON saved as: ./data/processed/wos_test_final.json\n"
     ]
    }
   ],
   "source": [
    "import json\n",
    "\n",
    "def fix_json_format(input_path, output_path):\n",
    "    with open(input_path, \"r\", encoding=\"utf-8\") as f:\n",
    "        raw_text = f.read().strip()\n",
    "\n",
    "    # Convert separate JSON objects into a valid JSON list\n",
    "    fixed_text = \"[\\n\" + raw_text.replace(\"}\\n{\", \"},\\n{\") + \"\\n]\"\n",
    "\n",
    "    # Save the fixed JSON\n",
    "    with open(output_path, \"w\", encoding=\"utf-8\") as f:\n",
    "        f.write(fixed_text)\n",
    "\n",
    "    print(f\"✅ Fixed JSON saved as: {output_path}\")\n",
    "\n",
    "# Fix both train and test JSON files\n",
    "fix_json_format(\"./data/processed/wos_train_fixed.json\", \"./data/processed/wos_train_final.json\")\n",
    "fix_json_format(\"./data/processed/wos_test_fixed.json\", \"./data/processed/wos_test_final.json\")\n"
   ]
  },
  {
   "cell_type": "code",
   "execution_count": 1,
   "id": "deddc1bc-298c-4cb6-b0a8-115e2a60d002",
   "metadata": {},
   "outputs": [
    {
     "name": "stdout",
     "output_type": "stream",
     "text": [
      "CUDA Available: False\n",
      "GPU Name: No GPU found\n",
      "GPU Count: 0\n"
     ]
    }
   ],
   "source": [
    "import torch\n",
    "print(\"CUDA Available:\", torch.cuda.is_available())  # Checks if GPU is detected\n",
    "print(\"GPU Name:\", torch.cuda.get_device_name(0) if torch.cuda.is_available() else \"No GPU found\")\n",
    "print(\"GPU Count:\", torch.cuda.device_count())  # Number of GPUs available\n"
   ]
  },
  {
   "cell_type": "code",
   "execution_count": null,
   "id": "ffa6b2c8-2252-49df-9829-be60890347f6",
   "metadata": {},
   "outputs": [],
   "source": []
  }
 ],
 "metadata": {
  "kernelspec": {
   "display_name": "Python 3 (ipykernel)",
   "language": "python",
   "name": "python3"
  },
  "language_info": {
   "codemirror_mode": {
    "name": "ipython",
    "version": 3
   },
   "file_extension": ".py",
   "mimetype": "text/x-python",
   "name": "python",
   "nbconvert_exporter": "python",
   "pygments_lexer": "ipython3",
   "version": "3.12.4"
  }
 },
 "nbformat": 4,
 "nbformat_minor": 5
}
