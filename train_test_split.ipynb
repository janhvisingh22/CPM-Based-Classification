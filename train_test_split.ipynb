{
 "cells": [
  {
   "cell_type": "code",
   "execution_count": 1,
   "id": "68c694cb-9377-4368-8bec-9fc3c751662f",
   "metadata": {},
   "outputs": [],
   "source": [
    "import pandas as pd\n",
    "import json\n",
    "from sklearn.model_selection import train_test_split"
   ]
  },
  {
   "cell_type": "code",
   "execution_count": 2,
   "id": "0709253a-e9c8-448e-ad34-d9f6560021c9",
   "metadata": {},
   "outputs": [],
   "source": [
    "# Load WOS dataset (assuming it's preprocessed as a list of dicts)\n",
    "with open(\"./data/processed/WOS_preprocessed.json\", \"r\") as f:\n",
    "    wos_data = json.load(f)"
   ]
  },
  {
   "cell_type": "code",
   "execution_count": 3,
   "id": "c8697157-c038-484f-b2af-f9a457ee1f27",
   "metadata": {},
   "outputs": [],
   "source": [
    "# Convert to DataFrame\n",
    "wos_df = pd.DataFrame(wos_data)"
   ]
  },
  {
   "cell_type": "code",
   "execution_count": 5,
   "id": "1590df9d-c84b-47c8-a173-ca8f13de7cea",
   "metadata": {},
   "outputs": [],
   "source": [
    "# Load NYT dataset (JSONL format)\n",
    "nyt_data = []\n",
    "with open(\"./data/processed/NYT_preprocessed.jsonl\", \"r\") as f:\n",
    "    for line in f:\n",
    "        nyt_data.append(json.loads(line.strip()))  # Read line by line"
   ]
  },
  {
   "cell_type": "code",
   "execution_count": 6,
   "id": "545ec596-3e04-4075-a4d4-4e27c46fb7ba",
   "metadata": {},
   "outputs": [],
   "source": [
    "# Convert to DataFrame\n",
    "nyt_df = pd.DataFrame(nyt_data)"
   ]
  },
  {
   "cell_type": "code",
   "execution_count": 7,
   "id": "353fe06a-3efc-4b6a-80ff-42e5048543ed",
   "metadata": {},
   "outputs": [],
   "source": [
    "# 📌 Train-Test Split for WOS\n",
    "wos_train, wos_test = train_test_split(\n",
    "    wos_df, test_size=0.2, stratify=wos_df[\"labels\"], random_state=42\n",
    ")"
   ]
  },
  {
   "cell_type": "code",
   "execution_count": 9,
   "id": "3547c5f1-5b15-4124-be86-e49c1051b630",
   "metadata": {},
   "outputs": [
    {
     "name": "stdout",
     "output_type": "stream",
     "text": [
      "✅ Train Size: 1753211, Test Size: 438303\n"
     ]
    }
   ],
   "source": [
    "# Count label occurrences\n",
    "label_counts = nyt_df[\"labels\"].value_counts()\n",
    "\n",
    "# Filter out labels with fewer than 2 occurrences\n",
    "valid_labels = label_counts[label_counts > 1].index\n",
    "nyt_df_filtered = nyt_df[nyt_df[\"labels\"].isin(valid_labels)]\n",
    "\n",
    "# Perform stratified train-test split\n",
    "nyt_train, nyt_test = train_test_split(\n",
    "    nyt_df_filtered, test_size=0.2, stratify=nyt_df_filtered[\"labels\"], random_state=42\n",
    ")\n",
    "\n",
    "print(f\"✅ Train Size: {len(nyt_train)}, Test Size: {len(nyt_test)}\")\n"
   ]
  },
  {
   "cell_type": "code",
   "execution_count": 11,
   "id": "43d51b64-4a39-41bf-a223-08fcda7f6ff5",
   "metadata": {},
   "outputs": [
    {
     "name": "stdout",
     "output_type": "stream",
     "text": [
      "✅ NYT Train-Test Split Completed!\n"
     ]
    }
   ],
   "source": [
    "# Save the split datasets as JSONL (line-separated JSON)\n",
    "with open(\"./data/processed/nyt_train.jsonl\", \"w\") as f:\n",
    "    for record in nyt_train.to_dict(orient=\"records\"):\n",
    "        f.write(json.dumps(record) + \"\\n\")\n",
    "\n",
    "with open(\"./data/processed/nyt_test.jsonl\", \"w\") as f:\n",
    "    for record in nyt_test.to_dict(orient=\"records\"):\n",
    "        f.write(json.dumps(record) + \"\\n\")\n",
    "\n",
    "print(\"✅ NYT Train-Test Split Completed!\")"
   ]
  },
  {
   "cell_type": "code",
   "execution_count": 10,
   "id": "3de7377e-9fa3-4b69-bb84-c58bbb1567d6",
   "metadata": {},
   "outputs": [],
   "source": [
    "# Save the splits\n",
    "wos_train.to_json(\"./data/processed/wos_train.json\", orient=\"records\", lines=True)\n",
    "wos_test.to_json(\"./data/processed/wos_test.json\", orient=\"records\", lines=True)"
   ]
  },
  {
   "cell_type": "code",
   "execution_count": null,
   "id": "510e1358-4bc7-4489-bbf1-5f826495890a",
   "metadata": {},
   "outputs": [],
   "source": []
  },
  {
   "cell_type": "code",
   "execution_count": null,
   "id": "bad28d49-07b1-4774-9dca-0ffc940d2265",
   "metadata": {},
   "outputs": [],
   "source": []
  }
 ],
 "metadata": {
  "kernelspec": {
   "display_name": "Python 3 (ipykernel)",
   "language": "python",
   "name": "python3"
  },
  "language_info": {
   "codemirror_mode": {
    "name": "ipython",
    "version": 3
   },
   "file_extension": ".py",
   "mimetype": "text/x-python",
   "name": "python",
   "nbconvert_exporter": "python",
   "pygments_lexer": "ipython3",
   "version": "3.12.4"
  }
 },
 "nbformat": 4,
 "nbformat_minor": 5
}
